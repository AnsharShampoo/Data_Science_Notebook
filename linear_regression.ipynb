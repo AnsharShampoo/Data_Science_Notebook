{
  "nbformat": 4,
  "nbformat_minor": 0,
  "metadata": {
    "colab": {
      "provenance": [],
      "authorship_tag": "ABX9TyMghprwlf/64Ue/HIa6fvy7",
      "include_colab_link": true
    },
    "kernelspec": {
      "name": "python3",
      "display_name": "Python 3"
    },
    "language_info": {
      "name": "python"
    }
  },
  "cells": [
    {
      "cell_type": "markdown",
      "metadata": {
        "id": "view-in-github",
        "colab_type": "text"
      },
      "source": [
        "<a href=\"https://colab.research.google.com/github/AnsharShampoo/Data_Science_Notebook/blob/linear_regression_collab/linear_regression.ipynb\" target=\"_parent\"><img src=\"https://colab.research.google.com/assets/colab-badge.svg\" alt=\"Open In Colab\"/></a>"
      ]
    },
    {
      "cell_type": "markdown",
      "source": [
        "# Linear Regression Implementation\n"
      ],
      "metadata": {
        "id": "9NVRFuEBf4eE"
      }
    },
    {
      "cell_type": "markdown",
      "source": [
        "## Packages"
      ],
      "metadata": {
        "id": "UMP6K6hwg9XJ"
      }
    },
    {
      "cell_type": "code",
      "source": [
        "import numpy as np\n",
        "import pandas as pd\n",
        "import matplotlib.pyplot as plt"
      ],
      "metadata": {
        "id": "RuKxyMEEhJGO"
      },
      "execution_count": 4,
      "outputs": []
    },
    {
      "cell_type": "markdown",
      "source": [
        "# Dataset"
      ],
      "metadata": {
        "id": "WCCFjRK2lOrP"
      }
    },
    {
      "cell_type": "code",
      "source": [
        "initial_data_frame = pd.read_csv(r'/bottle.csv')\n",
        "print(initial_data_frame.head())\n",
        "print(initial_data_frame.info())"
      ],
      "metadata": {
        "colab": {
          "base_uri": "https://localhost:8080/"
        },
        "id": "pix2UdljlRei",
        "outputId": "b0fb52d4-1357-4ab1-9878-ab1be618120c"
      },
      "execution_count": 7,
      "outputs": [
        {
          "output_type": "stream",
          "name": "stderr",
          "text": [
            "<ipython-input-7-8610153bb28f>:1: DtypeWarning: Columns (47,73) have mixed types. Specify dtype option on import or set low_memory=False.\n",
            "  initial_data_frame = pd.read_csv(r'/bottle.csv')\n"
          ]
        },
        {
          "output_type": "stream",
          "name": "stdout",
          "text": [
            "   Cst_Cnt  Btl_Cnt       Sta_ID                                Depth_ID  \\\n",
            "0        1        1  054.0 056.0  19-4903CR-HY-060-0930-05400560-0000A-3   \n",
            "1        1        2  054.0 056.0  19-4903CR-HY-060-0930-05400560-0008A-3   \n",
            "2        1        3  054.0 056.0  19-4903CR-HY-060-0930-05400560-0010A-7   \n",
            "3        1        4  054.0 056.0  19-4903CR-HY-060-0930-05400560-0019A-3   \n",
            "4        1        5  054.0 056.0  19-4903CR-HY-060-0930-05400560-0020A-7   \n",
            "\n",
            "   Depthm  T_degC  Salnty  O2ml_L  STheta  O2Sat  ...  R_PHAEO  R_PRES  \\\n",
            "0       0   10.50  33.440     NaN  25.649    NaN  ...      NaN       0   \n",
            "1       8   10.46  33.440     NaN  25.656    NaN  ...      NaN       8   \n",
            "2      10   10.46  33.437     NaN  25.654    NaN  ...      NaN      10   \n",
            "3      19   10.45  33.420     NaN  25.643    NaN  ...      NaN      19   \n",
            "4      20   10.45  33.421     NaN  25.643    NaN  ...      NaN      20   \n",
            "\n",
            "   R_SAMP  DIC1  DIC2  TA1  TA2  pH2  pH1  DIC Quality Comment  \n",
            "0     NaN   NaN   NaN  NaN  NaN  NaN  NaN                  NaN  \n",
            "1     NaN   NaN   NaN  NaN  NaN  NaN  NaN                  NaN  \n",
            "2     NaN   NaN   NaN  NaN  NaN  NaN  NaN                  NaN  \n",
            "3     NaN   NaN   NaN  NaN  NaN  NaN  NaN                  NaN  \n",
            "4     NaN   NaN   NaN  NaN  NaN  NaN  NaN                  NaN  \n",
            "\n",
            "[5 rows x 74 columns]\n",
            "<class 'pandas.core.frame.DataFrame'>\n",
            "RangeIndex: 864863 entries, 0 to 864862\n",
            "Data columns (total 74 columns):\n",
            " #   Column               Non-Null Count   Dtype  \n",
            "---  ------               --------------   -----  \n",
            " 0   Cst_Cnt              864863 non-null  int64  \n",
            " 1   Btl_Cnt              864863 non-null  int64  \n",
            " 2   Sta_ID               864863 non-null  object \n",
            " 3   Depth_ID             864863 non-null  object \n",
            " 4   Depthm               864863 non-null  int64  \n",
            " 5   T_degC               853900 non-null  float64\n",
            " 6   Salnty               817509 non-null  float64\n",
            " 7   O2ml_L               696201 non-null  float64\n",
            " 8   STheta               812174 non-null  float64\n",
            " 9   O2Sat                661274 non-null  float64\n",
            " 10  Oxy_µmol/Kg          661268 non-null  float64\n",
            " 11  BtlNum               118667 non-null  float64\n",
            " 12  RecInd               864863 non-null  int64  \n",
            " 13  T_prec               853900 non-null  float64\n",
            " 14  T_qual               23127 non-null   float64\n",
            " 15  S_prec               817509 non-null  float64\n",
            " 16  S_qual               74914 non-null   float64\n",
            " 17  P_qual               673755 non-null  float64\n",
            " 18  O_qual               184676 non-null  float64\n",
            " 19  SThtaq               65823 non-null   float64\n",
            " 20  O2Satq               217797 non-null  float64\n",
            " 21  ChlorA               225272 non-null  float64\n",
            " 22  Chlqua               639166 non-null  float64\n",
            " 23  Phaeop               225271 non-null  float64\n",
            " 24  Phaqua               639170 non-null  float64\n",
            " 25  PO4uM                413317 non-null  float64\n",
            " 26  PO4q                 451786 non-null  float64\n",
            " 27  SiO3uM               354091 non-null  float64\n",
            " 28  SiO3qu               510866 non-null  float64\n",
            " 29  NO2uM                337576 non-null  float64\n",
            " 30  NO2q                 529474 non-null  float64\n",
            " 31  NO3uM                337403 non-null  float64\n",
            " 32  NO3q                 529933 non-null  float64\n",
            " 33  NH3uM                64962 non-null   float64\n",
            " 34  NH3q                 808299 non-null  float64\n",
            " 35  C14As1               14432 non-null   float64\n",
            " 36  C14A1p               12760 non-null   float64\n",
            " 37  C14A1q               848605 non-null  float64\n",
            " 38  C14As2               14414 non-null   float64\n",
            " 39  C14A2p               12742 non-null   float64\n",
            " 40  C14A2q               848623 non-null  float64\n",
            " 41  DarkAs               22649 non-null   float64\n",
            " 42  DarkAp               20457 non-null   float64\n",
            " 43  DarkAq               840440 non-null  float64\n",
            " 44  MeanAs               22650 non-null   float64\n",
            " 45  MeanAp               20457 non-null   float64\n",
            " 46  MeanAq               840439 non-null  float64\n",
            " 47  IncTim               14437 non-null   object \n",
            " 48  LightP               18651 non-null   float64\n",
            " 49  R_Depth              864863 non-null  float64\n",
            " 50  R_TEMP               853900 non-null  float64\n",
            " 51  R_POTEMP             818816 non-null  float64\n",
            " 52  R_SALINITY           817509 non-null  float64\n",
            " 53  R_SIGMA              812007 non-null  float64\n",
            " 54  R_SVA                812092 non-null  float64\n",
            " 55  R_DYNHT              818206 non-null  float64\n",
            " 56  R_O2                 696201 non-null  float64\n",
            " 57  R_O2Sat              666448 non-null  float64\n",
            " 58  R_SIO3               354099 non-null  float64\n",
            " 59  R_PO4                413325 non-null  float64\n",
            " 60  R_NO3                337411 non-null  float64\n",
            " 61  R_NO2                337584 non-null  float64\n",
            " 62  R_NH4                64982 non-null   float64\n",
            " 63  R_CHLA               225276 non-null  float64\n",
            " 64  R_PHAEO              225275 non-null  float64\n",
            " 65  R_PRES               864863 non-null  int64  \n",
            " 66  R_SAMP               122006 non-null  float64\n",
            " 67  DIC1                 1999 non-null    float64\n",
            " 68  DIC2                 224 non-null     float64\n",
            " 69  TA1                  2084 non-null    float64\n",
            " 70  TA2                  234 non-null     float64\n",
            " 71  pH2                  10 non-null      float64\n",
            " 72  pH1                  84 non-null      float64\n",
            " 73  DIC Quality Comment  55 non-null      object \n",
            "dtypes: float64(65), int64(5), object(4)\n",
            "memory usage: 488.3+ MB\n",
            "None\n"
          ]
        }
      ]
    },
    {
      "cell_type": "code",
      "source": [
        "data_frame = initial_data_frame[[\"T_degC\",\"Salnty\"]]\n",
        "print(data_frame.head())\n",
        "print(data_frame.info())\n",
        "clean_df = data_frame.dropna()\n",
        "print(clean_df.info())"
      ],
      "metadata": {
        "colab": {
          "base_uri": "https://localhost:8080/"
        },
        "id": "EaaMbEkMmSUI",
        "outputId": "fac14f31-787d-4af6-facd-21c52f63a55e"
      },
      "execution_count": 19,
      "outputs": [
        {
          "output_type": "stream",
          "name": "stdout",
          "text": [
            "   T_degC  Salnty\n",
            "0   10.50  33.440\n",
            "1   10.46  33.440\n",
            "2   10.46  33.437\n",
            "3   10.45  33.420\n",
            "4   10.45  33.421\n",
            "<class 'pandas.core.frame.DataFrame'>\n",
            "RangeIndex: 864863 entries, 0 to 864862\n",
            "Data columns (total 2 columns):\n",
            " #   Column  Non-Null Count   Dtype  \n",
            "---  ------  --------------   -----  \n",
            " 0   T_degC  853900 non-null  float64\n",
            " 1   Salnty  817509 non-null  float64\n",
            "dtypes: float64(2)\n",
            "memory usage: 13.2 MB\n",
            "None\n",
            "<class 'pandas.core.frame.DataFrame'>\n",
            "Int64Index: 814247 entries, 0 to 864862\n",
            "Data columns (total 2 columns):\n",
            " #   Column  Non-Null Count   Dtype  \n",
            "---  ------  --------------   -----  \n",
            " 0   T_degC  814247 non-null  float64\n",
            " 1   Salnty  814247 non-null  float64\n",
            "dtypes: float64(2)\n",
            "memory usage: 18.6 MB\n",
            "None\n"
          ]
        }
      ]
    }
  ]
}